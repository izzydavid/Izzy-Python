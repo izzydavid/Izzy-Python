{
 "cells": [
  {
   "cell_type": "code",
   "execution_count": null,
   "metadata": {},
   "outputs": [],
   "source": [
    "import openpyxl\n",
    "import time\n",
    "from selenium import webdriver\n",
    "from selenium.webdriver.support.ui import WebDriverWait\n",
    "from selenium.webdriver.support import expected_conditions as EC\n",
    "from selenium.webdriver.common.by import By"
   ]
  },
  {
   "cell_type": "code",
   "execution_count": null,
   "metadata": {},
   "outputs": [],
   "source": [
    "chromedriver_location = \"/Users/Downloads/chromedriver\"\n",
    "driver = webdriver.Chrome('/Users/Downloads/chromedriver')\n",
    "wrkbk = openpyxl.load_workbook('/Users/Desktop/test.xlsx')\n",
    "sh = wrkbk['Sheet1']\n",
    "print(sh.max_row)\n",
    "for c in sh['A']:\n",
    "    driver.get(c.value)\n",
    "    # time.sleep(1)\n",
    "    print(c.value)"
   ]
  },
  {
   "cell_type": "code",
   "execution_count": null,
   "metadata": {},
   "outputs": [],
   "source": [
    "WebDriverWait (self.driver, 20).until(EC.element_to_be_clickable((By.XPATH, '//*[@id=\"u_0_2_rg\"]/div[5]'\n",
    "WebDriverWait (self.driver, 20).until(EC.element_to_be_clickable((By.XPATH, '//*[@id=\"react-root\"]/div/header/div[2]/nav/div[2]/button[2]'\n",
    "WebDriverWait (self.driver, 20).until(EC.element_to_be_clickable((By.XPATH, '//*[@id=\"endpoint\"]/tp-yt-paper-item/yt-formatted-string'\n",
    "WebDriverWait (self.driver, 20).until(EC.element_to_be_clickable((By.XPATH, '//*[@id=\"react-root\"]/div/div/section/main/article/div[2]/div[2]/p/a'\n",
    "WebDriverWait (self.driver, 20).until(EC.element_to_be_clickable((By.XPATH, '/html/body/header/div/nav/ol/li[4]/a' \n",
    "\n",
    "\n",
    "driver.find_element('xpath', create_new_facebook_account).click()\n",
    "driver.find_element('xpath', login_instacart).click()\n",
    "driver.find_element('xpath', explore_youtube).click()\n",
    "driver.find_element('xpath', signup_instagram).click()\n",
    "driver.find_element('xpath', signup_stack_overflow).click()\n"
   ]
  }
 ],
 "metadata": {
  "kernelspec": {
   "display_name": "Python 3.9.12 ('base')",
   "language": "python",
   "name": "python3"
  },
  "language_info": {
   "codemirror_mode": {
    "name": "ipython",
    "version": 3
   },
   "file_extension": ".py",
   "mimetype": "text/x-python",
   "name": "python",
   "nbconvert_exporter": "python",
   "pygments_lexer": "ipython3",
   "version": "3.9.12"
  },
  "orig_nbformat": 4,
  "vscode": {
   "interpreter": {
    "hash": "7cf0b98df9e470b9922100b8646bff546e8258dc0970e9d3558cee16ad8da140"
   }
  }
 },
 "nbformat": 4,
 "nbformat_minor": 2
}
